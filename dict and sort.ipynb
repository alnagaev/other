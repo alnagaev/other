{
 "cells": [
  {
   "cell_type": "code",
   "execution_count": 15,
   "metadata": {
    "collapsed": false
   },
   "outputs": [
    {
     "name": "stdout",
     "output_type": "stream",
     "text": [
      "{'drugoross': 16, 'k2501': 5, 'chernosotnia': 5, 'spb_vesna': 7, 'club87541481': 45, 'rospil': 1, 'club47394483': 1, 'nodmolodezh': 2, 'a.news_spb': 13, 'anarcho.news': 2, 'avtonom_org': 2, 'antifafm': 5, 'class__war': 50, 'revalternativa': 1, 'socialist_spb': 1, 'club38231855': 7, 'slavrus2': 271, 'prav_spb': 2, 'komitetns': 4, 'avangard_rus': 1, 'wotan_jugend': 47, 'wotan_jugend_2017': 6, 'cheetka': 3, 'avoe_blat_xata_5': 3, 'aye123aye777': 4, 'app4209815': 11, 'aye_178': 1, 'sv_chistyi_peterburg': 19, 'public33632563': 1, 'dm_bobrov': 32, 'slavyanskayasilaspb': 1, 'soprotivlenie_ws': 3, 'rnebarkashov': 2, 'rne_petersburg': 10, 'inkerinmaa': 1, 'free_ingria': 14, 'sports88': 21, 'ultrashooligans88': 4, 'white_united_ultras': 5, 'fansfczenit': 13, 'offside_magazine': 19}\n"
     ]
    }
   ],
   "source": [
    "import re\n",
    "with open('C:/Users/alnag/Documents/new 9.txt', 'r') as f:\n",
    "    a = f.read()\n",
    "b = a.split(', ')\n",
    "c = b.copy()\n",
    "c = dict(zip(c, c)).keys()\n",
    "keys = ['drugoross', 'k2501', 'chernosotnia', 'spb_vesna', 'club87541481', 'rospil', 'club47394483', 'nodmolodezh', 'a.news_spb',\n",
    "'anarcho.news', 'avtonom_org', 'antifafm', 'class__war', 'revalternativa', 'socialist_spb', 'club38231855', 'slavrus2',\n",
    "'prav_spb', 'komitetns', 'avangard_rus', 'wotan_jugend','wotan_jugend_2017', 'cheetka', 'avoe_blat_xata_5', 'aye123aye777', \n",
    "'app4209815', 'aye_178', 'sv_chistyi_peterburg', 'public33632563', 'dm_bobrov','slavyanskayasilaspb', 'soprotivlenie_ws', \n",
    "'rnebarkashov', 'rne_petersburg', 'inkerinmaa', 'free_ingria', 'sports88', 'ultrashooligans88','white_united_ultras',\n",
    "'fansfczenit', 'offside_magazine']\n",
    "from itertools import groupby\n",
    "yh = [len(list(group)) for key, group in groupby(b)]\n",
    "dict_out = {}\n",
    "for x, y in zip(keys, yh):\n",
    "    dict_out[x] = y\n",
    "print(dict_out)"
   ]
  },
  {
   "cell_type": "code",
   "execution_count": 17,
   "metadata": {
    "collapsed": false
   },
   "outputs": [
    {
     "name": "stdout",
     "output_type": "stream",
     "text": [
      "45\n"
     ]
    }
   ],
   "source": [
    "import re\n",
    "with open('C:/Users/alnag/Documents/new 9.txt', 'r') as f:\n",
    "    a = f.read()\n",
    "b = a.split(', ')\n",
    "from itertools import groupby\n",
    "c = [len(list(group)) for key, group in groupby(b)]\n",
    "c = len(c)\n",
    "print(c)"
   ]
  },
  {
   "cell_type": "code",
   "execution_count": 48,
   "metadata": {
    "collapsed": false
   },
   "outputs": [
    {
     "name": "stdout",
     "output_type": "stream",
     "text": [
      "dict_keys(['158 УК РФ', '167 УК РФ', '20.1 КОАП РФ', '20.1 КОАП РФ ', '20.2 КоАП РФ', '205.2 УК РФ', '228 УК РФ', '280.1 УК РФ', '318 УК РФ', '329 УК РФ', '354  УК РФ', '354.1 УК РФ', '354.1 ч. 3 УК РФ', '359 УК РФ', '6.21 КоАП РФ', 'НИКС', 'ОДЭО', 'ЭМ', 'ЭС', 'хулиганство', 'часть Е'])\n",
      "{'158 УК РФ': 5, '167 УК РФ': 3, '20.1 КОАП РФ': 183, '20.1 КОАП РФ ': 1, '20.2 КоАП РФ': 27, '205.2 УК РФ': 36, '228 УК РФ': 19, '280.1 УК РФ': 28, '318 УК РФ': 33, '329 УК РФ': 5, '354  УК РФ': 1, '354.1 УК РФ': 54, '354.1 ч. 3 УК РФ': 15, '359 УК РФ': 7, '6.21 КоАП РФ': 2, 'НИКС': 13, 'ОДЭО': 2, 'ЭМ': 50, 'ЭС': 230, 'хулиганство': 4, 'часть Е': 138}\n",
      "158 УК РФ ; 5\n",
      "167 УК РФ ; 3\n",
      "20.1 КОАП РФ ; 183\n",
      "20.1 КОАП РФ  ; 1\n",
      "20.2 КоАП РФ ; 27\n",
      "205.2 УК РФ ; 36\n",
      "228 УК РФ ; 19\n",
      "280.1 УК РФ ; 28\n",
      "318 УК РФ ; 33\n",
      "329 УК РФ ; 5\n",
      "354  УК РФ ; 1\n",
      "354.1 УК РФ ; 54\n",
      "354.1 ч. 3 УК РФ ; 15\n",
      "359 УК РФ ; 7\n",
      "6.21 КоАП РФ ; 2\n",
      "НИКС ; 13\n",
      "ОДЭО ; 2\n",
      "ЭМ ; 50\n",
      "ЭС ; 230\n",
      "хулиганство ; 4\n",
      "часть Е ; 138\n"
     ]
    }
   ],
   "source": [
    "import re, codecs\n",
    "with codecs.open('C:/Users/alnag/Documents/crimes1.txt', 'r', encoding=\"utf-8\") as f:\n",
    "    a = f.read()\n",
    "b = a.split(', ')\n",
    "b = sorted(b)\n",
    "c = b.copy()\n",
    "c = dict(zip(c, c)).keys()\n",
    "print(c)\n",
    "keys = ['158 УК РФ', '167 УК РФ', '20.1 КОАП РФ', '20.1 КОАП РФ ', '20.2 КоАП РФ', \n",
    "        '205.2 УК РФ', '228 УК РФ', '280.1 УК РФ', '318 УК РФ', '329 УК РФ', '354  УК РФ',\n",
    "        '354.1 УК РФ', '354.1 ч. 3 УК РФ', '359 УК РФ', '6.21 КоАП РФ', 'НИКС', 'ОДЭО', 'ЭМ', 'ЭС', 'хулиганство', 'часть Е']\n",
    "from itertools import groupby\n",
    "yh = [len(list(group)) for key, group in groupby(b)]\n",
    "dict_out = {}\n",
    "for x, y in zip(keys, yh):\n",
    "    dict_out[x] = y\n",
    "print(dict_out)\n",
    "import pandas as pd\n",
    "for i in dict_out.items():\n",
    "    print (i[0],';', i[1])"
   ]
  },
  {
   "cell_type": "code",
   "execution_count": null,
   "metadata": {
    "collapsed": true
   },
   "outputs": [],
   "source": []
  }
 ],
 "metadata": {
  "kernelspec": {
   "display_name": "Python 3",
   "language": "python",
   "name": "python3"
  },
  "language_info": {
   "codemirror_mode": {
    "name": "ipython",
    "version": 3
   },
   "file_extension": ".py",
   "mimetype": "text/x-python",
   "name": "python",
   "nbconvert_exporter": "python",
   "pygments_lexer": "ipython3",
   "version": "3.6.0"
  }
 },
 "nbformat": 4,
 "nbformat_minor": 2
}
